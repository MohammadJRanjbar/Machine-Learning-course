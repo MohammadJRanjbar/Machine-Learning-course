{
  "nbformat": 4,
  "nbformat_minor": 0,
  "metadata": {
    "colab": {
      "provenance": [],
      "collapsed_sections": []
    },
    "kernelspec": {
      "name": "python3",
      "display_name": "Python 3"
    },
    "language_info": {
      "name": "python"
    }
  },
  "cells": [
    {
      "cell_type": "code",
      "execution_count": null,
      "metadata": {
        "id": "_RzoRVufNF6y"
      },
      "outputs": [],
      "source": [
        "!unzip Images.zip"
      ]
    },
    {
      "cell_type": "code",
      "source": [
        "import cv2\n",
        "import numpy as np\n",
        "import os\n",
        "import random\n",
        "from sklearn.naive_bayes import GaussianNB\n",
        "from sklearn.model_selection import train_test_split\n",
        "from sklearn import datasets\n",
        "import pandas as pd\n",
        "import matplotlib.pyplot as plt\n",
        "import numpy\n",
        "from sklearn import metrics\n",
        "from sklearn.metrics import precision_score\n",
        "from sklearn.metrics import recall_score"
      ],
      "metadata": {
        "id": "7N24SWIhRevn"
      },
      "execution_count": null,
      "outputs": []
    },
    {
      "cell_type": "code",
      "source": [
        "def Average_color(Image):\n",
        "    B,G,R =cv2.split(Image)\n",
        "    return [np.average(B),np.average(G),np.average(R)]"
      ],
      "metadata": {
        "id": "P1KujSEhPeKQ"
      },
      "execution_count": null,
      "outputs": []
    },
    {
      "cell_type": "code",
      "source": [
        "Image_names=os.listdir(\"Images\")"
      ],
      "metadata": {
        "id": "L8hF_MYrQvCY"
      },
      "execution_count": null,
      "outputs": []
    },
    {
      "cell_type": "code",
      "source": [
        "random.shuffle(Image_names)"
      ],
      "metadata": {
        "id": "zL_FXGhQSRKJ"
      },
      "execution_count": null,
      "outputs": []
    },
    {
      "cell_type": "code",
      "source": [
        "data=[]\n",
        "target=[]\n",
        "for image_name in Image_names:\n",
        "  data.append(Average_color(cv2.imread(\"Images/{}\".format(image_name))))\n",
        "  target.append(image_name[0])"
      ],
      "metadata": {
        "id": "_0_kN9GWR9fe"
      },
      "execution_count": null,
      "outputs": []
    },
    {
      "cell_type": "code",
      "source": [
        "def accuracy(y_true, y_pred):\n",
        "    accuracy = np.sum(y_true == y_pred) / len(y_true)\n",
        "    return accuracy\n",
        "X_train, X_test, y_train, y_test = train_test_split(data, target, test_size=0.2,random_state=12)\n",
        "gnb = GaussianNB()\n",
        "gnb.fit(X_train, y_train)\n",
        "y_pred=gnb.predict(X_test)\n",
        "\n",
        "confusion_matrix = metrics.confusion_matrix(y_test, y_pred)\n",
        "\n",
        "cm_display = metrics.ConfusionMatrixDisplay(confusion_matrix = confusion_matrix, display_labels = [1, 0])\n",
        "\n",
        "cm_display.plot()\n",
        "plt.show()\n",
        "print(\"Naive Bayes classification accuracy\", accuracy(y_test, y_pred))\n",
        "Simple_y_test=[]\n",
        "simple_y_pred=[]\n",
        "for i in range(len(y_test)):\n",
        "  if (y_test[i] == 'c') :\n",
        "    Simple_y_test.append(0)\n",
        "  else:\n",
        "    Simple_y_test.append(1)\n",
        "  if (y_pred[i] == 'c'):\n",
        "    simple_y_pred.append(0)\n",
        "  else:\n",
        "    simple_y_pred.append(1)  \n",
        "\n",
        "print(\"Precision score:\", precision_score(Simple_y_test, simple_y_pred))\n",
        "print(\"Recall score:\", recall_score(Simple_y_test, simple_y_pred))"
      ],
      "metadata": {
        "colab": {
          "base_uri": "https://localhost:8080/",
          "height": 338
        },
        "id": "6qcckc-lTItv",
        "outputId": "e7ced0ed-5c1c-4253-b178-efc7907fd915"
      },
      "execution_count": null,
      "outputs": [
        {
          "output_type": "display_data",
          "data": {
            "text/plain": [
              "<Figure size 432x288 with 2 Axes>"
            ],
            "image/png": "[encoded data removed]"
          },
          "metadata": {
            "needs_background": "light"
          }
        },
        {
          "output_type": "stream",
          "name": "stdout",
          "text": [
            "Naive Bayes classification accuracy 0.88\n",
            "Precision score: 0.9090909090909091\n",
            "Recall score: 0.8333333333333334\n"
          ]
        }
      ]
    },
    {
      "cell_type": "code",
      "source": [
        "\n",
        "def Color_classifier(colors):\n",
        "  if(colors[0]>=colors[2]):\n",
        "    return 'c'\n",
        "  else:\n",
        "    return 'm'\n",
        "def accuracy_color(y_true, y_pred):\n",
        "    j=0\n",
        "    for i in range(len(y_true)):\n",
        "      if(y_true[i] == y_pred[i]):\n",
        "        j=j+1\n",
        "    accuracy = j / len(y_true)\n",
        "    return accuracy\n",
        "y_pred=[]\n",
        "for color in data:\n",
        "  y_pred.append(Color_classifier(color))\n",
        "confusion_matrix = metrics.confusion_matrix(target, y_pred)\n",
        "cm_display = metrics.ConfusionMatrixDisplay(confusion_matrix = confusion_matrix, display_labels = [1, 0])\n",
        "\n",
        "cm_display.plot()\n",
        "plt.show()\n",
        "Simple_y_test=[]\n",
        "simple_y_pred=[]\n",
        "for i in range(len(target)):\n",
        "  if (target[i] == 'c') :\n",
        "    Simple_y_test.append(0)\n",
        "  else:\n",
        "    Simple_y_test.append(1)\n",
        "  if (y_pred[i] == 'c'):\n",
        "    simple_y_pred.append(0)\n",
        "  else:\n",
        "    simple_y_pred.append(1)  \n",
        "\n",
        "\n",
        "print(\"Color classification accuracy:\", accuracy_color(target.copy(),y_pred))\n",
        "print(\"Precision score:\", precision_score(Simple_y_test, simple_y_pred))\n",
        "print(\"Recall score:\", recall_score(Simple_y_test, simple_y_pred))"
      ],
      "metadata": {
        "colab": {
          "base_uri": "https://localhost:8080/",
          "height": 334
        },
        "id": "V764SqAxVFbS",
        "outputId": "60ecb6f0-dd4c-4901-88b4-0851fd0d0477"
      },
      "execution_count": null,
      "outputs": [
        {
          "output_type": "display_data",
          "data": {
            "text/plain": [
              "<Figure size 432x288 with 2 Axes>"
            ],
            "image/png": "[encoded data removed]"
          },
          "metadata": {
            "needs_background": "light"
          }
        },
        {
          "output_type": "stream",
          "name": "stdout",
          "text": [
            "Color classification accuracy: 0.8442622950819673\n",
            "Precision score: 0.76\n",
            "Recall score: 0.9827586206896551\n"
          ]
        }
      ]
    }
  ]
}