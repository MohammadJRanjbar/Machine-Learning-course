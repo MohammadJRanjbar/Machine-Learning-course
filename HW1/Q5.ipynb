{
  "nbformat": 4,
  "nbformat_minor": 0,
  "metadata": {
    "colab": {
      "provenance": [],
      "collapsed_sections": []
    },
    "kernelspec": {
      "name": "python3",
      "display_name": "Python 3"
    },
    "language_info": {
      "name": "python"
    }
  },
  "cells": [
    {
      "cell_type": "markdown",
      "source": [
        "**Naive bayes implementation from scratch**"
      ],
      "metadata": {
        "id": "P7nCtTzdD7Tx"
      }
    },
    {
      "cell_type": "code",
      "source": [
        "from sklearn import metrics\n",
        "from sklearn.metrics import precision_score\n",
        "from sklearn.metrics import recall_score\n",
        "import pandas as pd\n",
        "import numpy as np\n",
        "from sklearn.model_selection import train_test_split\n",
        "from sklearn import datasets\n",
        "import pandas as pd\n",
        "import matplotlib.pyplot as plt\n",
        "import numpy"
      ],
      "metadata": {
        "id": "idVHHsVNvbAh"
      },
      "execution_count": 47,
      "outputs": []
    },
    {
      "cell_type": "code",
      "source": [
        "class NaiveBayes:\n",
        "\n",
        "    def fit(self, X, y):\n",
        "        n_samples, n_features = X.shape\n",
        "        self.classes = np.unique(y)\n",
        "        n_classes = len(self.classes)\n",
        "        #empty matrix for parameters \n",
        "        self._mean = np.zeros((n_classes, n_features))\n",
        "        self._var = np.zeros((n_classes, n_features))\n",
        "        self._priors = np.zeros(n_classes)\n",
        "        #calculation mean var for priro(P(Y)) each class \n",
        "        for i, c in enumerate(self.classes):\n",
        "            class_sample = X[y == c]\n",
        "            self._mean[i, :] = class_sample.mean(axis=0)\n",
        "            self._var[i, :] = class_sample.var(axis=0)\n",
        "            self._priors[i] = class_sample.shape[0] / float(n_samples)\n",
        "    def predict(self, X):\n",
        "        y_pred=[]\n",
        "        for x in X:\n",
        "          posteriors = []\n",
        "          # calculate posterior probability for each class\n",
        "          for i, c in enumerate(self.classes):\n",
        "              prior = np.log(self._priors[i])\n",
        "              posterior = np.sum(np.log(self._pdf(i, x)))\n",
        "              posterior = posterior + prior\n",
        "              posteriors.append(posterior)\n",
        "          y_pred.append(self.classes[np.argmax(posteriors)])\n",
        "        return np.array(y_pred)\n",
        "    #gaussian distribtuion\n",
        "    def _pdf(self, i, x):\n",
        "        return np.exp(-np.power(x - self._mean[i], 2.) / (2 * self._var[i])) / (2*np.pi*self._var[i])**0.5"
      ],
      "metadata": {
        "id": "_GL6yIcSJgnM"
      },
      "execution_count": 60,
      "outputs": []
    },
    {
      "cell_type": "code",
      "source": [
        "def accuracy(y_true, y_pred):\n",
        "    accuracy = np.sum(y_true == y_pred) / len(y_true)\n",
        "    return accuracy "
      ],
      "metadata": {
        "id": "SIt0D1KVED35"
      },
      "execution_count": null,
      "outputs": []
    },
    {
      "cell_type": "code",
      "source": [
        "df = pd.read_csv(\"Breast_cancer_data.csv\")\n",
        "y=df[\"diagnosis\"].values\n",
        "X=df[df.columns.drop('diagnosis')].values\n",
        "X_train, X_test, y_train, y_test = train_test_split(X, y, test_size=0.2,random_state=5)"
      ],
      "metadata": {
        "id": "b26P25FXDW3J"
      },
      "execution_count": 62,
      "outputs": []
    },
    {
      "cell_type": "code",
      "source": [
        "nb = NaiveBayes()\n",
        "nb.fit(X_train, y_train)\n",
        "y_pred = nb.predict(X_test)\n",
        "\n",
        "confusion_matrix = metrics.confusion_matrix(y_test, y_pred)\n",
        "\n",
        "cm_display = metrics.ConfusionMatrixDisplay(confusion_matrix = confusion_matrix, display_labels = [1, 0])\n",
        "\n",
        "cm_display.plot()\n",
        "plt.show()\n",
        "\n",
        "print(\"Naive Bayes classification accuracy\", accuracy(y_test, y_pred))\n",
        "print(\"Precision score:\", precision_score(y_test, y_pred))\n",
        "print(\"Recall score:\", recall_score(y_test, y_pred))"
      ],
      "metadata": {
        "colab": {
          "base_uri": "https://localhost:8080/",
          "height": 334
        },
        "id": "yIYTL2nXviLI",
        "outputId": "1106bea0-3094-49aa-f18b-2d012eb428cb"
      },
      "execution_count": 65,
      "outputs": [
        {
          "output_type": "display_data",
          "data": {
            "text/plain": [
              "<Figure size 432x288 with 2 Axes>"
            ],
            "image/png": "[encoded data removed]"
          },
          "metadata": {}
        },
        {
          "output_type": "stream",
          "name": "stdout",
          "text": [
            "Naive Bayes classification accuracy 0.9210526315789473\n",
            "Precision score: 0.88\n",
            "Recall score: 1.0\n"
          ]
        }
      ]
    },
    {
      "cell_type": "markdown",
      "source": [
        "**Naive bayes classifier implementation with sklearn python**"
      ],
      "metadata": {
        "id": "snMDL_4GLxwW"
      }
    },
    {
      "cell_type": "code",
      "source": [
        "from sklearn.naive_bayes import GaussianNB\n",
        "gnb = GaussianNB()\n",
        "gnb.fit(X_train, y_train)\n",
        "y_pred=gnb.predict(X_test)\n",
        "\n",
        "confusion_matrix = metrics.confusion_matrix(y_test, y_pred)\n",
        "\n",
        "cm_display = metrics.ConfusionMatrixDisplay(confusion_matrix = confusion_matrix, display_labels = [1, 0])\n",
        "\n",
        "cm_display.plot()\n",
        "plt.show()\n",
        "print(\"Naive Bayes classification accuracy\", accuracy(y_test, y_pred))\n",
        "print(\"Precision score:\", precision_score(y_test, y_pred))\n",
        "print(\"Recall score:\", recall_score(y_test, y_pred))"
      ],
      "metadata": {
        "colab": {
          "base_uri": "https://localhost:8080/",
          "height": 334
        },
        "id": "Dqeg2_fYKjtJ",
        "outputId": "ad38b935-777b-4e20-c2b4-12e905de2dff"
      },
      "execution_count": 66,
      "outputs": [
        {
          "output_type": "display_data",
          "data": {
            "text/plain": [
              "<Figure size 432x288 with 2 Axes>"
            ],
            "image/png": "[encoded data removed]"
          },
          "metadata": {}
        },
        {
          "output_type": "stream",
          "name": "stdout",
          "text": [
            "Naive Bayes classification accuracy 0.9210526315789473\n",
            "Precision score: 0.88\n",
            "Recall score: 1.0\n"
          ]
        }
      ]
    },
    {
      "cell_type": "markdown",
      "source": [
        "Optimal bayes classifer\n"
      ],
      "metadata": {
        "id": "spbmvEtVMq0f"
      }
    }
  ]
}