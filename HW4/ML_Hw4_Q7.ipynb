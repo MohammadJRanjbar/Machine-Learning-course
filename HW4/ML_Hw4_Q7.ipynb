{
  "nbformat": 4,
  "nbformat_minor": 0,
  "metadata": {
    "colab": {
      "provenance": []
    },
    "kernelspec": {
      "name": "python3",
      "display_name": "Python 3"
    },
    "language_info": {
      "name": "python"
    }
  },
  "cells": [
    {
      "cell_type": "code",
      "execution_count": 78,
      "metadata": {
        "id": "u3__sY2zSF-m"
      },
      "outputs": [],
      "source": [
        "from sklearn.svm import SVR\n",
        "import numpy as np\n",
        "import random\n",
        "import matplotlib.pyplot as plt\n",
        "from sklearn.model_selection import cross_val_score,StratifiedKFold\n",
        "from sklearn.svm import SVC\n",
        "from sklearn.model_selection import train_test_split\n",
        "from sklearn.model_selection import GridSearchCV\n",
        "from sklearn.metrics import mean_squared_error"
      ]
    },
    {
      "cell_type": "code",
      "source": [
        "x= np.linspace(0,2,100)\n",
        "er=np.random.random_sample(size=100)/2 - 0.5\n",
        "y=np.sin(x**2)+er"
      ],
      "metadata": {
        "id": "9mtRRjFiSaQq"
      },
      "execution_count": 23,
      "outputs": []
    },
    {
      "cell_type": "code",
      "source": [
        "plt.scatter(x,y)"
      ],
      "metadata": {
        "colab": {
          "base_uri": "https://localhost:8080/",
          "height": 282
        },
        "id": "43HW0XpcTbCx",
        "outputId": "431a02a2-2e13-49e2-b792-7908383ece35"
      },
      "execution_count": 24,
      "outputs": [
        {
          "output_type": "execute_result",
          "data": {
            "text/plain": [
              "<matplotlib.collections.PathCollection at 0x7fba01e087c0>"
            ]
          },
          "metadata": {},
          "execution_count": 24
        },
        {
          "output_type": "display_data",
          "data": {
            "text/plain": [
              "<Figure size 432x288 with 1 Axes>"
            ],
            "image/png": "[encoded data removed]"
          },
          "metadata": {
            "needs_background": "light"
          }
        }
      ]
    },
    {
      "cell_type": "code",
      "source": [
        "param_grid1 = [{'C': [1, 10, 100, 1000], 'kernel': ['linear']}]\n",
        "param_grid2=[ {'C': [1, 10, 100, 1000], 'gamma': [0.0001,0.001,0.1,1,10], 'kernel': ['poly'], 'coef0':[0.1,1,5,10]}]\n",
        "param_grid3=[ {'C': [1, 10, 100, 1000], 'gamma': [0.0001,0.001,0.1,1,10], 'kernel': ['rbf']}]\n",
        "grid_clf1 = GridSearchCV(SVR(), param_grid1, cv=5)\n",
        "grid_clf2 = GridSearchCV(SVR(degree=3), param_grid2, cv=5)\n",
        "grid_clf3 = GridSearchCV(SVR(), param_grid3, cv=5)\n",
        "grid_clf1.fit(x.reshape(-1,1), y)\n",
        "grid_clf2.fit(x.reshape(-1,1), y)\n",
        "grid_clf3.fit(x.reshape(-1,1), y)\n"
      ],
      "metadata": {
        "colab": {
          "base_uri": "https://localhost:8080/"
        },
        "id": "cLbeLOS88sFP",
        "outputId": "2f2efde4-27d7-4746-8177-ccc1cb4ac517"
      },
      "execution_count": 67,
      "outputs": [
        {
          "output_type": "execute_result",
          "data": {
            "text/plain": [
              "GridSearchCV(cv=5, estimator=SVR(),\n",
              "             param_grid=[{'C': [1, 10, 100, 1000],\n",
              "                          'gamma': [0.0001, 0.001, 0.1, 1, 10],\n",
              "                          'kernel': ['rbf']}])"
            ]
          },
          "metadata": {},
          "execution_count": 67
        }
      ]
    },
    {
      "cell_type": "code",
      "source": [
        "print(\"The best parameters for linear are: \" + str(grid_clf1.best_params_))\n",
        "print(\"The best parameters for poly are: \" + str(grid_clf2.best_params_))\n",
        "print(\"The best parameters for rbf are: \" + str(grid_clf3.best_params_))"
      ],
      "metadata": {
        "colab": {
          "base_uri": "https://localhost:8080/"
        },
        "id": "r7Jd10t3PLhs",
        "outputId": "c1e2de44-9e58-4a46-a334-cead180180bc"
      },
      "execution_count": 68,
      "outputs": [
        {
          "output_type": "stream",
          "name": "stdout",
          "text": [
            "The best parameters for linear are: {'C': 1, 'kernel': 'linear'}\n",
            "The best parameters for poly are: {'C': 1, 'coef0': 0.1, 'gamma': 10, 'kernel': 'poly'}\n",
            "The best parameters for rbf are: {'C': 10, 'gamma': 1, 'kernel': 'rbf'}\n"
          ]
        }
      ]
    },
    {
      "cell_type": "code",
      "source": [
        "print(\"The coefficient of determination for the linear classifer is: \" + str(clf1.score(x.reshape(-1,1),y)))\n",
        "print(\"The coefficient of determination for the poly classifer is: \" + str(clf2.score(x.reshape(-1,1),y)))\n",
        "print(\"The coefficient of determination for the rbf classifer is: \" + str(clf3.score(x.reshape(-1,1),y)))"
      ],
      "metadata": {
        "colab": {
          "base_uri": "https://localhost:8080/"
        },
        "id": "Avo90-BTfVN9",
        "outputId": "dc07bd44-5077-45da-dc01-b9d874f45fe9"
      },
      "execution_count": 79,
      "outputs": [
        {
          "output_type": "stream",
          "name": "stdout",
          "text": [
            "The coefficient of determination for the linear classifer is: -0.1765743645776896\n",
            "The coefficient of determination for the poly classifer is: 0.9113147506100493\n",
            "The coefficient of determination for the rbf classifer is: 0.9203043104715829\n"
          ]
        }
      ]
    },
    {
      "cell_type": "code",
      "source": [
        "print(\"The mean_squared_error for the linear classifer is: \" + str(mean_squared_error(y,clf1.predict(x.reshape(-1,1)))))\n",
        "print(\"The mean_squared_error for the poly classifer is: \" + str(mean_squared_error(y,clf2.predict(x.reshape(-1,1)))))\n",
        "print(\"The mean_squared_error for the rbf classifer is: \" + str(mean_squared_error(y,clf3.predict(x.reshape(-1,1)))))"
      ],
      "metadata": {
        "colab": {
          "base_uri": "https://localhost:8080/"
        },
        "id": "0aKKzX05gStU",
        "outputId": "a459aadc-67fc-454b-9f88-6d0aa9344dfa"
      },
      "execution_count": 80,
      "outputs": [
        {
          "output_type": "stream",
          "name": "stdout",
          "text": [
            "The mean_squared_error for the linear classifer is: 0.2817008417424394\n",
            "The mean_squared_error for the poly classifer is: 0.021233429994248064\n",
            "The mean_squared_error for the rbf classifer is: 0.019081108257409087\n"
          ]
        }
      ]
    },
    {
      "cell_type": "code",
      "source": [
        "clf1 = SVR(kernel='linear', C=grid_clf1.best_params_['C'])\n",
        "clf2 = SVR(kernel='poly',degree=3, C=grid_clf2.best_params_['C'], gamma=grid_clf2.best_params_['gamma'],coef0=grid_clf2.best_params_['coef0'])\n",
        "clf3 = SVR(kernel='rbf', C=grid_clf3.best_params_['C'], gamma=grid_clf3.best_params_['gamma'])\n",
        "clf1.fit(x.reshape(-1,1),y)\n",
        "clf2.fit(x.reshape(-1,1),y)\n",
        "clf3.fit(x.reshape(-1,1),y)\n",
        "plt.scatter(x,clf1.predict(x.reshape(-1,1)))\n",
        "plt.scatter(x,clf2.predict(x.reshape(-1,1)))\n",
        "plt.scatter(x,clf3.predict(x.reshape(-1,1)))\n",
        "plt.scatter(x,y)\n",
        "plt.legend(['linear', 'poly','rbf','original'])"
      ],
      "metadata": {
        "colab": {
          "base_uri": "https://localhost:8080/",
          "height": 282
        },
        "id": "jziGmhF-ZQqr",
        "outputId": "f92da949-5d5a-4139-80eb-201f62f6768c"
      },
      "execution_count": 82,
      "outputs": [
        {
          "output_type": "execute_result",
          "data": {
            "text/plain": [
              "<matplotlib.legend.Legend at 0x7fba012b8df0>"
            ]
          },
          "metadata": {},
          "execution_count": 82
        },
        {
          "output_type": "display_data",
          "data": {
            "text/plain": [
              "<Figure size 432x288 with 1 Axes>"
            ],
            "image/png": "[encoded data removed]"
          },
          "metadata": {
            "needs_background": "light"
          }
        }
      ]
    },
    {
      "cell_type": "code",
      "source": [
        "clf1 = SVR(kernel='linear')\n",
        "best_linear=[]\n",
        "for i in np.linspace(0.1,10,100): \n",
        "    clf1.C=i\n",
        "    average=cross_val_score(clf1,x.reshape(-1,1),y,cv=4,scoring='neg_mean_absolute_error').mean()\n",
        "    best_linear.append(average)"
      ],
      "metadata": {
        "id": "GmCQpL6kUKEZ"
      },
      "execution_count": 83,
      "outputs": []
    },
    {
      "cell_type": "code",
      "source": [
        "xx=[i+1 for i in range (0,100)]\n",
        "plt.plot(xx,best_linear)\n",
        "plt.show()"
      ],
      "metadata": {
        "colab": {
          "base_uri": "https://localhost:8080/",
          "height": 265
        },
        "id": "uu52Sk1PjSP6",
        "outputId": "404c01d9-fc3b-4a47-d0e7-9b73290b14a1"
      },
      "execution_count": 88,
      "outputs": [
        {
          "output_type": "display_data",
          "data": {
            "text/plain": [
              "<Figure size 432x288 with 1 Axes>"
            ],
            "image/png": "[encoded data removed]"
          },
          "metadata": {
            "needs_background": "light"
          }
        }
      ]
    }
  ]
}